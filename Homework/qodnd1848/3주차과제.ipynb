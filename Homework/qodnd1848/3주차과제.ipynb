{
  "nbformat": 4,
  "nbformat_minor": 0,
  "metadata": {
    "colab": {
      "name": "3주차과제.ipynb",
      "provenance": [],
      "collapsed_sections": [],
      "authorship_tag": "ABX9TyO8avi+ypP6GSpO/rALaaiH",
      "include_colab_link": true
    },
    "kernelspec": {
      "name": "python3",
      "display_name": "Python 3"
    }
  },
  "cells": [
    {
      "cell_type": "markdown",
      "metadata": {
        "id": "view-in-github",
        "colab_type": "text"
      },
      "source": [
        "<a href=\"https://colab.research.google.com/github/qodnd1848/lectures-bigphys/blob/master/3%EC%A3%BC%EC%B0%A8%EA%B3%BC%EC%A0%9C.ipynb\" target=\"_parent\"><img src=\"https://colab.research.google.com/assets/colab-badge.svg\" alt=\"Open In Colab\"/></a>"
      ]
    },
    {
      "cell_type": "code",
      "metadata": {
        "id": "8G4JI9bciy3a",
        "colab_type": "code",
        "colab": {
          "base_uri": "https://localhost:8080/",
          "height": 383
        },
        "outputId": "2b25fa6f-d8c2-4807-8f40-9cfd6f77f645"
      },
      "source": [
        "import numpy as np \n",
        "\n",
        "\n",
        "size = int(input(\"내부 size를 정해주세요 : \"))\n",
        "\n",
        "#4개변에는 격자점이 없지만 계산의 편의를 위해 가상의 격자점을 추가하기 위해 size+2, 계산의 편의를 위해 0=격자점값,1,2,3,4는 방향을 지정 후 다 0값을 디폴트값으로\n",
        "matrix = np.zeros((size+2, size+2, 5), dtype=float)\n",
        "#답은 깔끔하게 받기위해 격자점의 위치로만 지정\n",
        "solve = np.zeros((size, size),dtype=float)\n",
        "\n",
        "#제일 첫번째 행은 10V로 지정\n",
        "for column in range(size+2):\n",
        "  matrix[0][column][0] = 10\n",
        "  \n",
        "#각 내부격자점의 퍼텐셜은 상,하,좌,우 퍼텐셜의 평균 을 구하는 함수를 정의\n",
        "def calculation():\n",
        "#내부 격자의 1은 위쪽, 2는 오른쪽, 3은 아래쪽, 4는 오른쪽 격자점으로 지정\n",
        "  for row in range(1,size+1):\n",
        "    for column in range(1,size+1):\n",
        "      matrix[row][column][1] = matrix[row-1][column][0]\n",
        "      matrix[row][column][2] = matrix[row][column+1][0]\n",
        "      matrix[row][column][3] = matrix[row+1][column][0]\n",
        "      matrix[row][column][4] = matrix[row][column-1][0] \n",
        "\n",
        "  for row in range(1,size+1):\n",
        "    for column in range(1,size+1):\n",
        "      matrix[row][column][0] = (matrix[row][column][1]+matrix[row][column][2]+matrix[row][column][3]+matrix[row][column][4])/4\n",
        "\n",
        "  return matrix\n",
        "\n",
        "\"\"\"\n",
        "#def한 함수가 맞는지 확인 \n",
        "matrix = calculation()\n",
        "matrix = calculation()\n",
        "matrix = calculation()\n",
        "#matrix[1][1][0] = (matrix[1][1][1]+matrix[1][1][2]+matrix[1][1][3]+matrix[1][1][4])/4\n",
        "print(matrix[1][1][0])\n",
        "\n",
        "\"\"\"\n",
        "\n",
        "#정의한 함수 만 번 반복 후 값 출력 : 10번과 100번은 차이가 약간 있으나, 100번과 1000번천은 차이가 적어서 만 번으로 돌렸다. \n",
        "count = 0\n",
        "while count < 10000:\n",
        "  matrix = calculation()\n",
        "  count += 1\n",
        "\n",
        "\n",
        "for row in range(1,size+1):\n",
        "  for column in range(1,size+1):\n",
        "    solve[row-1][column-1] = matrix[row][column][0] \n",
        "\n",
        "print(solve)\n",
        "\n",
        "#나온 결과 저장\n",
        "np.savetxt(\"C:\\\\save.txt\",solve,fmt='%f', delimiter=',')\n"
      ],
      "execution_count": 56,
      "outputs": [
        {
          "output_type": "stream",
          "text": [
            "내부 size를 정해주세요 : 10\n",
            "[[4.90865551 6.78901293 7.61179862 7.99518988 8.15178176 8.15178176\n",
            "  7.99518988 7.61179862 6.78901293 4.90865551]\n",
            " [2.8456091  4.63559758 5.66299168 6.21717916 6.46015539 6.46015539\n",
            "  6.21717916 5.66299168 4.63559758 2.8456091 ]\n",
            " [1.83818331 3.24477661 4.18739135 4.75037969 5.01150524 5.01150524\n",
            "  4.75037969 4.18739135 3.24477661 1.83818331]\n",
            " [1.26234751 2.3179342  3.09141744 3.58544299 3.82398065 3.82398065\n",
            "  3.58544299 3.09141744 2.3179342  1.26234751]\n",
            " [0.89327255 1.67319525 2.27490122 2.6759942  2.87499371 2.87499371\n",
            "  2.6759942  2.27490122 1.67319525 0.89327255]\n",
            " [0.63754743 1.20667304 1.65899797 1.96863887 2.12500629 2.12500629\n",
            "  1.96863887 1.65899797 1.20667304 0.63754743]\n",
            " [0.45024412 0.85695149 1.18577878 1.41455701 1.53138629 1.53138629\n",
            "  1.41455701 1.18577878 0.85695149 0.45024412]\n",
            " [0.30647757 0.58511003 0.81260865 0.97242409 1.05459557 1.05459557\n",
            "  0.97242409 0.81260865 0.58511003 0.30647757]\n",
            " [0.19055612 0.36440242 0.50712168 0.60793514 0.65997633 0.65997633\n",
            "  0.60793514 0.50712168 0.36440242 0.19055612]\n",
            " [0.09134449 0.17482185 0.2435405  0.29221848 0.31739827 0.31739827\n",
            "  0.29221848 0.2435405  0.17482185 0.09134449]]\n"
          ],
          "name": "stdout"
        }
      ]
    },
    {
      "cell_type": "code",
      "metadata": {
        "id": "HeKKR8a7zU2E",
        "colab_type": "code",
        "colab": {}
      },
      "source": [
        ""
      ],
      "execution_count": null,
      "outputs": []
    }
  ]
}