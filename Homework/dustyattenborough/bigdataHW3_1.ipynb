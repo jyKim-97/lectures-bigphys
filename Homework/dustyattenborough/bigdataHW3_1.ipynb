{
  "nbformat": 4,
  "nbformat_minor": 0,
  "metadata": {
    "colab": {
      "name": "bigdataHW3.ipynb",
      "provenance": [],
      "authorship_tag": "ABX9TyMtHXJOzWOH5ZOS1Tg0r5vf",
      "include_colab_link": true
    },
    "kernelspec": {
      "name": "python3",
      "display_name": "Python 3"
    }
  },
  "cells": [
    {
      "cell_type": "markdown",
      "metadata": {
        "id": "view-in-github",
        "colab_type": "text"
      },
      "source": [
        "<a href=\"https://colab.research.google.com/github/dustyattenborough/lectures-bigphys/blob/master/bigdataHW3.ipynb\" target=\"_parent\"><img src=\"https://colab.research.google.com/assets/colab-badge.svg\" alt=\"Open In Colab\"/></a>"
      ]
    },
    {
      "cell_type": "code",
      "metadata": {
        "id": "RyExtlhsxFau",
        "colab_type": "code",
        "colab": {}
      },
      "source": [
        "\n",
        "import numpy as np\n",
        "import matplotlib.pyplot as plt\n",
        "from math import *\n",
        "import random\n",
        "import time\n",
        "from google.colab import files\n",
        "import os\n",
        "import torch\n",
        "from mpl_toolkits.mplot3d import Axes3D\n",
        "from matplotlib import cm\n",
        "from matplotlib.ticker import LinearLocator, FixedLocator, FormatStrFormatter\n",
        "import pandas as pd"
      ],
      "execution_count": 5,
      "outputs": []
    },
    {
      "cell_type": "code",
      "metadata": {
        "id": "VkGJs6j3xJH7",
        "colab_type": "code",
        "colab": {}
      },
      "source": [
        "def  dott(a,b):\n",
        "  c=[a[0]-b[0],a[1]-b[1],a[2]-b[2] ]\n",
        "  amag=a[0]**2+a[1]**2+a[2]**2\n",
        "  bmag=b[0]**2+b[1]**2+b[2]**2\n",
        "  cmag=c[0]**2+c[1]**2+c[2]**2\n",
        "  cos0=(amag+bmag-cmag)/(2*sqrt(amag*bmag))\n",
        "  return cos0"
      ],
      "execution_count": 6,
      "outputs": []
    },
    {
      "cell_type": "code",
      "metadata": {
        "id": "tjJzO2GexY87",
        "colab_type": "code",
        "colab": {
          "base_uri": "https://localhost:8080/",
          "height": 34
        },
        "outputId": "11109338-f1a6-4e71-c286-38359f4a4763"
      },
      "source": [
        "nExp=100000\n",
        "datarnd=[]\n",
        "R=2\n",
        "nTrial=0\n",
        "while True:\n",
        "  x=random.uniform(-R,R)\n",
        "  y=random.uniform(-R,R)\n",
        "  z=random.uniform(-R,R)\n",
        "\n",
        "  if x*x+y*y+z*z<R*R:\n",
        "    datarnd.append([x,y,z])\n",
        "    nTrial+=1\n",
        "  if nTrial>=nExp:\n",
        "    break\n",
        "print(len(datarnd))"
      ],
      "execution_count": 7,
      "outputs": [
        {
          "output_type": "stream",
          "text": [
            "100000\n"
          ],
          "name": "stdout"
        }
      ]
    },
    {
      "cell_type": "code",
      "metadata": {
        "id": "nQVoKCFlxNGV",
        "colab_type": "code",
        "colab": {
          "base_uri": "https://localhost:8080/",
          "height": 34
        },
        "outputId": "dcbe245c-85c6-4654-8fcd-2e0f7ecd8d43"
      },
      "source": [
        "#구좌표계로 랜덤\n",
        "\n",
        "#R=2 # 구의 반지름\n",
        "#nExp=100000\n",
        "dataP3=[]\n",
        "dataQ=[]\n",
        "kq=10 ## charge density\n",
        "vector=[3,0,0]\n",
        "E_field=[]\n",
        "rr=0\n",
        "Q=0\n",
        "dvector=[]\n",
        "totalE=[[0,0,0]]\n",
        "lislis=[0]\n",
        "\n",
        "for i in range(nExp):\n",
        "  lislis.append(i)\n",
        "  r=random.random()*R\n",
        "  theta=random.random()*pi\n",
        "  phi=random.random()*2*pi\n",
        "  dataP3.append([r*sin(theta)*cos(phi),r*sin(theta)*cos(phi),r*cos(theta)])\n",
        "  dataQ.append(kq*r)\n",
        "  #print(dataP3[i])\n",
        "  rr=0\n",
        "  for j in range(3):\n",
        "    rr+=(dataP3[i][j]-vector[j])**2\n",
        "  rr=sqrt(rr)\n",
        "  dvector=[vector[0]-dataP3[i][0],vector[1]-dataP3[i][1],vector[2]-dataP3[i][2] ]\n",
        "  Q=(dataQ[i]/rr**2)\n",
        "  E_field.append([Q*dvector[0],Q*dvector[1],Q*dvector[2]] )\n",
        "  #print(E_field[i])\n",
        "  totalE.append([totalE[i][0]+E_field[i][0],totalE[i][1]+E_field[i][1],totalE[i][2]+E_field[i][2]]    )\n",
        "print(totalE[nExp])"
      ],
      "execution_count": 8,
      "outputs": [
        {
          "output_type": "stream",
          "text": [
            "[291358.6585649624, -27984.18696748763, -630.8098972115785]\n"
          ],
          "name": "stdout"
        }
      ]
    },
    {
      "cell_type": "code",
      "metadata": {
        "id": "K0wAKZdExP4D",
        "colab_type": "code",
        "colab": {
          "base_uri": "https://localhost:8080/",
          "height": 34
        },
        "outputId": "929e080d-771f-416c-ee57-9263eb9bf6bf"
      },
      "source": [
        "# xyz로 랜덤\n",
        "\n",
        "#R=2 # 구의 반지름\n",
        "#nExp=100000\n",
        "dataP3=[]\n",
        "dataQ=[]\n",
        "kq=10 ## charge density\n",
        "vector=[3,0,0]\n",
        "E_field=[]\n",
        "rr=0\n",
        "Q=0\n",
        "dvector=[]\n",
        "totalE=[[0,0,0]]\n",
        "lislis=[0]\n",
        "\n",
        "for i in range(nExp):\n",
        "  lislis.append(i)\n",
        "  r=sqrt(datarnd[i][0]**2+datarnd[i][1]**2+datarnd[i][2]**2)\n",
        "  dataP3.append([datarnd[i][0],datarnd[i][1],datarnd[i][2] ])\n",
        "  dataQ.append(kq*r)\n",
        "  #print(dataP3[i])\n",
        "  rr=0\n",
        "  for j in range(3):\n",
        "    rr+=(dataP3[i][j]-vector[j])**2\n",
        "  rr=sqrt(rr)\n",
        "  dvector=[vector[0]-dataP3[i][0],vector[1]-dataP3[i][1],vector[2]-dataP3[i][2] ]\n",
        "  Q=(dataQ[i]/rr**2)\n",
        "  E_field.append([Q*dvector[0],Q*dvector[1],Q*dvector[2]] )\n",
        "  #print(E_field[i])\n",
        "  totalE.append([totalE[i][0]+E_field[i][0],totalE[i][1]+E_field[i][1],totalE[i][2]+E_field[i][2]]    )\n",
        "print(totalE[nExp])"
      ],
      "execution_count": 10,
      "outputs": [
        {
          "output_type": "stream",
          "text": [
            "[446551.68059970706, 38.42229520430251, -94.02118391045661]\n"
          ],
          "name": "stdout"
        }
      ]
    },
    {
      "cell_type": "code",
      "metadata": {
        "id": "FVn4dPEgxSKL",
        "colab_type": "code",
        "colab": {
          "base_uri": "https://localhost:8080/",
          "height": 300
        },
        "outputId": "0176c151-e49a-422f-cdfe-818db90c399a"
      },
      "source": [
        "cos00=[]\n",
        "lis0=[]\n",
        "inti=0\n",
        "for qq in range(nExp):\n",
        "  cos00.append(dott(totalE[qq+1],vector))\n",
        "  lis0.append(qq)\n",
        "  if abs(cos00[qq]-1)>0.001:\n",
        "    #print(inti)\n",
        "    inti+=1\n",
        "print(inti)\n",
        "print(cos00[inti-1])\n",
        "plt.plot(lis0,cos00)\n",
        "plt.show()"
      ],
      "execution_count": 12,
      "outputs": [
        {
          "output_type": "stream",
          "text": [
            "850\n",
            "0.9989591230236978\n"
          ],
          "name": "stdout"
        },
        {
          "output_type": "display_data",
          "data": {
            "image/png": "[encoded data removed]",
            "text/plain": [
              "<Figure size 432x288 with 1 Axes>"
            ]
          },
          "metadata": {
            "tags": [],
            "needs_background": "light"
          }
        }
      ]
    }
  ]
}