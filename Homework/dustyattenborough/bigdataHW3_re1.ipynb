{
  "nbformat": 4,
  "nbformat_minor": 0,
  "metadata": {
    "colab": {
      "name": "bigdataHW3.ipynb",
      "provenance": [],
      "authorship_tag": "ABX9TyO0rk8RtZ2D7E/6K1jogtR/",
      "include_colab_link": true
    },
    "kernelspec": {
      "name": "python3",
      "display_name": "Python 3"
    }
  },
  "cells": [
    {
      "cell_type": "markdown",
      "metadata": {
        "id": "view-in-github",
        "colab_type": "text"
      },
      "source": [
        "<a href=\"https://colab.research.google.com/github/dustyattenborough/lectures-bigphys/blob/master/bigdataHW3_re1.ipynb\" target=\"_parent\"><img src=\"https://colab.research.google.com/assets/colab-badge.svg\" alt=\"Open In Colab\"/></a>"
      ]
    },
    {
      "cell_type": "code",
      "metadata": {
        "id": "RyExtlhsxFau"
      },
      "source": [
        "\n",
        "import numpy as np\n",
        "import matplotlib.pyplot as plt\n",
        "from math import *\n",
        "import random\n",
        "import time\n",
        "from google.colab import files\n",
        "import os\n",
        "import torch\n",
        "from mpl_toolkits.mplot3d import Axes3D\n",
        "from matplotlib import cm\n",
        "from matplotlib.ticker import LinearLocator, FixedLocator, FormatStrFormatter\n",
        "import pandas as pd"
      ],
      "execution_count": 5,
      "outputs": []
    },
    {
      "cell_type": "code",
      "metadata": {
        "id": "VkGJs6j3xJH7"
      },
      "source": [
        "def  Cos(a,b):\n",
        "  c=[a[0]-b[0],a[1]-b[1],a[2]-b[2] ]\n",
        "  amag=a[0]**2+a[1]**2+a[2]**2\n",
        "  bmag=b[0]**2+b[1]**2+b[2]**2\n",
        "  cmag=c[0]**2+c[1]**2+c[2]**2\n",
        "  cos0=(amag+bmag-cmag)/(2*sqrt(amag*bmag))\n",
        "  return cos0"
      ],
      "execution_count": 6,
      "outputs": []
    },
    {
      "cell_type": "code",
      "metadata": {
        "id": "tjJzO2GexY87",
        "outputId": "04ab4d30-0c45-4230-e91a-e83702c5fadf",
        "colab": {
          "base_uri": "https://localhost:8080/",
          "height": 52
        }
      },
      "source": [
        "nExp=100000\n",
        "R=2 #구의 반지름\n",
        "\n",
        "\n",
        "#카르테시안 좌표계로 랜덤\n",
        "datarnd=[]\n",
        "nTrial=0\n",
        "while True:\n",
        "  x=random.uniform(-R,R)\n",
        "  y=random.uniform(-R,R)\n",
        "  z=random.uniform(-R,R)\n",
        "\n",
        "  if x*x+y*y+z*z<R*R:\n",
        "    datarnd.append([x,y,z])\n",
        "    nTrial+=1\n",
        "  if nTrial>=nExp:\n",
        "    break\n",
        "print(len(datarnd))\n",
        "\n",
        "#구면 좌표계로 랜덤\n",
        "dataP3_C=[]\n",
        "for i in range(nExp):\n",
        "  r=random.random()*R\n",
        "  theta=random.random()*pi\n",
        "  phi=random.random()*2*pi\n",
        "  dataP3_C.append([r*sin(theta)*cos(phi),r*sin(theta)*cos(phi),r*cos(theta)])\n",
        "print(len(dataP3_C))"
      ],
      "execution_count": 149,
      "outputs": [
        {
          "output_type": "stream",
          "text": [
            "100000\n",
            "100000\n"
          ],
          "name": "stdout"
        }
      ]
    },
    {
      "cell_type": "code",
      "metadata": {
        "id": "nQVoKCFlxNGV",
        "outputId": "509c9db6-4458-49c8-ceaa-e812358ab28f",
        "colab": {
          "base_uri": "https://localhost:8080/",
          "height": 369
        }
      },
      "source": [
        "#구좌표계로 랜덤\n",
        "\n",
        "\n",
        "dataQ=[]\n",
        "kq=10 ## charge density\n",
        "vector=[2.1,0,0]\n",
        "E_field=[]\n",
        "rr=0\n",
        "Q=0\n",
        "dvector=[]\n",
        "totalE=[[0,0,0]]\n",
        "lislis=[0]\n",
        "\n",
        "for i in range(nExp):\n",
        "  lislis.append(i)\n",
        "  dataQ.append(kq*r)\n",
        "  #print(dataP3[i])\n",
        "  rr=0\n",
        "  for j in range(3):\n",
        "    rr+=(dataP3_C[i][j]-vector[j])**2\n",
        "  rr=sqrt(rr)\n",
        "  dvector=[vector[0]-dataP3_C[i][0],vector[1]-dataP3_C[i][1],vector[2]-dataP3_C[i][2] ]\n",
        "  Q=(dataQ[i]/rr**2)\n",
        "  E_field.append([Q*dvector[0],Q*dvector[1],Q*dvector[2]] )\n",
        "  #print(E_field[i])\n",
        "  totalE.append([totalE[i][0]+E_field[i][0],totalE[i][1]+E_field[i][1],totalE[i][2]+E_field[i][2]]    )\n",
        "print(totalE[nExp])\n",
        "print(totalE[1])\n",
        "\n",
        "cos00=[]\n",
        "print(cos00)\n",
        "lis0=[]\n",
        "inti=0\n",
        "qq=0\n",
        "for qq in range(nExp):\n",
        "  cos00.append(Cos(totalE[qq+1],vector))\n",
        "  lis0.append(qq)\n",
        "  if abs(cos00[qq]-1)>0.001:\n",
        "    #print(inti)\n",
        "    inti+=1\n",
        "print(inti)\n",
        "print(cos00[inti-1])\n",
        "print(cos00[0])\n",
        "plt.plot(lis0[:inti],cos00[:inti])\n",
        "plt.show()"
      ],
      "execution_count": 152,
      "outputs": [
        {
          "output_type": "stream",
          "text": [
            "[533290.8361069504, -55517.874369014105, 138.77792844183702]\n",
            "[5.633312174207597, 0.039943123147305595, 1.9953233943903184]\n",
            "[]\n",
            "100000\n",
            "0.9946247649102262\n",
            "0.9425960613626375\n"
          ],
          "name": "stdout"
        },
        {
          "output_type": "display_data",
          "data": {
            "image/png": "[encoded data removed]",
            "text/plain": [
              "<Figure size 432x288 with 1 Axes>"
            ]
          },
          "metadata": {
            "tags": [],
            "needs_background": "light"
          }
        }
      ]
    },
    {
      "cell_type": "code",
      "metadata": {
        "id": "K0wAKZdExP4D",
        "outputId": "e5997aa5-6f9b-4ab1-9789-91ded8d5fbe1",
        "colab": {
          "base_uri": "https://localhost:8080/",
          "height": 352
        }
      },
      "source": [
        "# xyz로 랜덤\n",
        "\n",
        "#R=2 # 구의 반지름\n",
        "#nExp=100000\n",
        "dataQ=[]\n",
        "dataP3=[]\n",
        "kq=10 ## charge density\n",
        "vector=[2.1,0,0]\n",
        "E_field=[]\n",
        "rr=0\n",
        "Q=0\n",
        "dvector=[]\n",
        "totalE=[[0,0,0]]\n",
        "lislis=[0]\n",
        "\n",
        "for i in range(nExp):\n",
        "  lislis.append(i)\n",
        "  r=sqrt(datarnd[i][0]**2+datarnd[i][1]**2+datarnd[i][2]**2)\n",
        "  dataP3.append([datarnd[i][0],datarnd[i][1],datarnd[i][2] ])\n",
        "  dataQ.append(kq*r)\n",
        "  #print(dataP3[i])\n",
        "  rr=0\n",
        "  for j in range(3):\n",
        "    rr+=(dataP3[i][j]-vector[j])**2\n",
        "  rr=sqrt(rr)\n",
        "  dvector=[vector[0]-dataP3[i][0],vector[1]-dataP3[i][1],vector[2]-dataP3[i][2] ]\n",
        "  Q=(dataQ[i]/rr**2)\n",
        "  E_field.append([Q*dvector[0],Q*dvector[1],Q*dvector[2]] )\n",
        "  #print(E_field[i])\n",
        "  totalE.append([totalE[i][0]+E_field[i][0],totalE[i][1]+E_field[i][1],totalE[i][2]+E_field[i][2]]    )\n",
        "print(totalE[nExp])\n",
        "print(totalE[1])\n",
        "\n",
        "cos01=[]\n",
        "lis0_=[]\n",
        "inti_=0\n",
        "qq_=0\n",
        "for qq_ in range(nExp):\n",
        "  cos01.append(Cos(totalE[qq_+1],vector))\n",
        "  lis0_.append(qq_)\n",
        "  if abs(cos01[qq_]-1)>0.001:\n",
        "    #print(inti)\n",
        "    inti_+=1\n",
        "print(inti_)\n",
        "print(cos01[inti_-1])\n",
        "print(cos01[0])\n",
        "plt.plot(lis0_[:inti_],cos01[:inti_])\n",
        "plt.show()"
      ],
      "execution_count": 153,
      "outputs": [
        {
          "output_type": "stream",
          "text": [
            "[538311.4185995021, -258.69317421680415, 2210.0150957782166]\n",
            "[2.1421712362459986, 0.39157639312855913, -0.25711980397617273]\n",
            "988\n",
            "0.9980921369957954\n",
            "0.9769145697233623\n"
          ],
          "name": "stdout"
        },
        {
          "output_type": "display_data",
          "data": {
            "image/png": "[encoded data removed]",
            "text/plain": [
              "<Figure size 432x288 with 1 Axes>"
            ]
          },
          "metadata": {
            "tags": [],
            "needs_background": "light"
          }
        }
      ]
    },
    {
      "cell_type": "code",
      "metadata": {
        "id": "FVn4dPEgxSKL"
      },
      "source": [
        ""
      ],
      "execution_count": 143,
      "outputs": []
    },
    {
      "cell_type": "code",
      "metadata": {
        "id": "YMDqlLJPT7xK"
      },
      "source": [
        ""
      ],
      "execution_count": null,
      "outputs": []
    }
  ]
}